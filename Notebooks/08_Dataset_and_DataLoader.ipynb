{
  "cells": [
    {
      "cell_type": "code",
      "source": [
        "\"\"\"import necessary modules\"\"\"\n",
        "import torch\n",
        "import torchvision\n",
        "from torch.utils.data import Dataset, DataLoader\n",
        "import numpy as np\n",
        "import math"
      ],
      "metadata": {
        "id": "9_lq1Cj7mUje"
      },
      "id": "9_lq1Cj7mUje",
      "execution_count": 32,
      "outputs": []
    },
    {
      "cell_type": "markdown",
      "source": [
        "## Basic Informations\n",
        "  - DataLoader can do the batch computation\n",
        "  - epoch: one forward and backward pass of all training samples\n",
        "  - batch_size: number of training samples in one forward/backward pass\n",
        "  - number of iterations: number of passes, each pass (forwar+backward) using [batch_size] number of sampes\n",
        "  - For example: 100 samples, batch_size=20, hence, 100/20=5 iterations for 1 epoch"
      ],
      "metadata": {
        "id": "tgQKZ5erqACU"
      },
      "id": "tgQKZ5erqACU"
    },
    {
      "cell_type": "code",
      "source": [
        "\"\"\"\"define a class to initialize or download a dataset\"\"\"\n",
        "class WineDataset(Dataset):\n",
        "\n",
        "    def __init__(self):\n",
        "        xy = np.loadtxt('wine.csv', delimiter=',', dtype=np.float32, skiprows=1) # read data with numpy\n",
        "        self.n_samples = xy.shape[0] # get the shape of the data\n",
        "\n",
        "        self.x_data = torch.from_numpy(xy[:, 1:]) # size [n_samples, n_features], all features\n",
        "        self.y_data = torch.from_numpy(xy[:, [0]]) # size [n_samples, 1], class label\n",
        "\n",
        "    def __getitem__(self, index): # dataset[i] can be used to get i-th sample\n",
        "        return self.x_data[index], self.y_data[index]\n",
        "\n",
        "    def __len__(self): # return the size of the dataset\n",
        "        return self.n_samples"
      ],
      "metadata": {
        "id": "eKayC-n9zx_8"
      },
      "id": "eKayC-n9zx_8",
      "execution_count": 33,
      "outputs": []
    },
    {
      "cell_type": "code",
      "source": [
        "\"\"\"create dataset\"\"\"\n",
        "dataset = WineDataset()"
      ],
      "metadata": {
        "id": "USBPhJW5z4tb"
      },
      "id": "USBPhJW5z4tb",
      "execution_count": 34,
      "outputs": []
    },
    {
      "cell_type": "code",
      "source": [
        "\"\"\"get first sample and unpack\"\"\"\n",
        "first_data = dataset[0] # first training sample\n",
        "features, labels = first_data\n",
        "print(\"First features are:\\n{}\\nFirst label is:{}\".format(features, labels))"
      ],
      "metadata": {
        "colab": {
          "base_uri": "https://localhost:8080/"
        },
        "id": "eFFOMlTQz4jl",
        "outputId": "b380cffd-d94f-4094-db8a-98822306c0a5"
      },
      "id": "eFFOMlTQz4jl",
      "execution_count": 35,
      "outputs": [
        {
          "output_type": "stream",
          "name": "stdout",
          "text": [
            "First features are:\n",
            "tensor([1.4230e+01, 1.7100e+00, 2.4300e+00, 1.5600e+01, 1.2700e+02, 2.8000e+00,\n",
            "        3.0600e+00, 2.8000e-01, 2.2900e+00, 5.6400e+00, 1.0400e+00, 3.9200e+00,\n",
            "        1.0650e+03])\n",
            "First label is:tensor([1.])\n"
          ]
        }
      ]
    },
    {
      "cell_type": "markdown",
      "source": [
        "### Tasks\n",
        "  - Load whole dataset with DataLoader\n",
        "    - shuffle: shuffle data, good for training\n",
        "    - num_workers: faster loading with multiple subprocesses\n",
        "**Note:** if get error while loading, set num_workers = 0"
      ],
      "metadata": {
        "id": "JxKQ5SYZ1C62"
      },
      "id": "JxKQ5SYZ1C62"
    },
    {
      "cell_type": "code",
      "source": [
        "\"\"\"load the data using DataLoader\"\"\"\n",
        "train_loader = DataLoader(dataset=dataset,batch_size=4,shuffle=True,num_workers=2) # batch size set to 4"
      ],
      "metadata": {
        "id": "6OvfrGVmz4XB"
      },
      "id": "6OvfrGVmz4XB",
      "execution_count": 36,
      "outputs": []
    },
    {
      "cell_type": "code",
      "source": [
        "\"\"\"convert to an iterator and look at one random sample: to check if bath size or other informations are correct\"\"\"\n",
        "dataiter = iter(train_loader)\n",
        "data = next(dataiter) # data = dataiter.next()\n",
        "features, labels = data\n",
        "print(\"First features are:\\n{}\\nFirst label is:\\n{}\".format(features, labels))"
      ],
      "metadata": {
        "colab": {
          "base_uri": "https://localhost:8080/"
        },
        "id": "e6CHzwM72GHt",
        "outputId": "cc630c4a-8d54-4422-8eff-90e578d830b3"
      },
      "id": "e6CHzwM72GHt",
      "execution_count": 37,
      "outputs": [
        {
          "output_type": "stream",
          "name": "stdout",
          "text": [
            "First features are:\n",
            "tensor([[1.3940e+01, 1.7300e+00, 2.2700e+00, 1.7400e+01, 1.0800e+02, 2.8800e+00,\n",
            "         3.5400e+00, 3.2000e-01, 2.0800e+00, 8.9000e+00, 1.1200e+00, 3.1000e+00,\n",
            "         1.2600e+03],\n",
            "        [1.1610e+01, 1.3500e+00, 2.7000e+00, 2.0000e+01, 9.4000e+01, 2.7400e+00,\n",
            "         2.9200e+00, 2.9000e-01, 2.4900e+00, 2.6500e+00, 9.6000e-01, 3.2600e+00,\n",
            "         6.8000e+02],\n",
            "        [1.2370e+01, 1.1300e+00, 2.1600e+00, 1.9000e+01, 8.7000e+01, 3.5000e+00,\n",
            "         3.1000e+00, 1.9000e-01, 1.8700e+00, 4.4500e+00, 1.2200e+00, 2.8700e+00,\n",
            "         4.2000e+02],\n",
            "        [1.2040e+01, 4.3000e+00, 2.3800e+00, 2.2000e+01, 8.0000e+01, 2.1000e+00,\n",
            "         1.7500e+00, 4.2000e-01, 1.3500e+00, 2.6000e+00, 7.9000e-01, 2.5700e+00,\n",
            "         5.8000e+02]])\n",
            "First label is:\n",
            "tensor([[1.],\n",
            "        [2.],\n",
            "        [2.],\n",
            "        [2.]])\n"
          ]
        }
      ]
    },
    {
      "cell_type": "markdown",
      "source": [
        "**Note:** have 4 different features and label batches for each epoch. Total 178 samples, batch_size = 4. Hence, 178/4=44.5, means 45 iterations in each epoch."
      ],
      "metadata": {
        "id": "4iz38esb3KpK"
      },
      "id": "4iz38esb3KpK"
    },
    {
      "cell_type": "code",
      "source": [
        "\"\"\"Dummy Training loop\"\"\"\n",
        "num_epochs = 2\n",
        "total_samples = len(dataset)\n",
        "n_iterations = math.ceil(total_samples/4)\n",
        "print(\"Toral samples are: {}\\nTotal iterations in each epoch: {}\\n\".format(total_samples, n_iterations))\n",
        "\n",
        "for epoch in range(num_epochs):\n",
        "    for i, (inputs, labels) in enumerate(train_loader):\n",
        "        # Run your training process\n",
        "        if (i+1) % 5 == 0:\n",
        "            print(f'Epoch: {epoch+1}/{num_epochs}, Step {i+1}/{n_iterations}| Inputs {inputs.shape} | Labels {labels.shape}')"
      ],
      "metadata": {
        "colab": {
          "base_uri": "https://localhost:8080/"
        },
        "id": "FJjMBy3Axqqs",
        "outputId": "2bdcf8d8-dffe-4188-f511-fe118a0ce601"
      },
      "id": "FJjMBy3Axqqs",
      "execution_count": 38,
      "outputs": [
        {
          "output_type": "stream",
          "name": "stdout",
          "text": [
            "Toral samples are: 178\n",
            "Total iterations in each epoch: 45\n",
            "\n",
            "Epoch: 1/2, Step 5/45| Inputs torch.Size([4, 13]) | Labels torch.Size([4, 1])\n",
            "Epoch: 1/2, Step 10/45| Inputs torch.Size([4, 13]) | Labels torch.Size([4, 1])\n",
            "Epoch: 1/2, Step 15/45| Inputs torch.Size([4, 13]) | Labels torch.Size([4, 1])\n",
            "Epoch: 1/2, Step 20/45| Inputs torch.Size([4, 13]) | Labels torch.Size([4, 1])\n",
            "Epoch: 1/2, Step 25/45| Inputs torch.Size([4, 13]) | Labels torch.Size([4, 1])\n",
            "Epoch: 1/2, Step 30/45| Inputs torch.Size([4, 13]) | Labels torch.Size([4, 1])\n",
            "Epoch: 1/2, Step 35/45| Inputs torch.Size([4, 13]) | Labels torch.Size([4, 1])\n",
            "Epoch: 1/2, Step 40/45| Inputs torch.Size([4, 13]) | Labels torch.Size([4, 1])\n",
            "Epoch: 1/2, Step 45/45| Inputs torch.Size([2, 13]) | Labels torch.Size([2, 1])\n",
            "Epoch: 2/2, Step 5/45| Inputs torch.Size([4, 13]) | Labels torch.Size([4, 1])\n",
            "Epoch: 2/2, Step 10/45| Inputs torch.Size([4, 13]) | Labels torch.Size([4, 1])\n",
            "Epoch: 2/2, Step 15/45| Inputs torch.Size([4, 13]) | Labels torch.Size([4, 1])\n",
            "Epoch: 2/2, Step 20/45| Inputs torch.Size([4, 13]) | Labels torch.Size([4, 1])\n",
            "Epoch: 2/2, Step 25/45| Inputs torch.Size([4, 13]) | Labels torch.Size([4, 1])\n",
            "Epoch: 2/2, Step 30/45| Inputs torch.Size([4, 13]) | Labels torch.Size([4, 1])\n",
            "Epoch: 2/2, Step 35/45| Inputs torch.Size([4, 13]) | Labels torch.Size([4, 1])\n",
            "Epoch: 2/2, Step 40/45| Inputs torch.Size([4, 13]) | Labels torch.Size([4, 1])\n",
            "Epoch: 2/2, Step 45/45| Inputs torch.Size([2, 13]) | Labels torch.Size([2, 1])\n"
          ]
        }
      ]
    },
    {
      "cell_type": "markdown",
      "source": [
        "## Some Famous Datasets: available in `torchvision.datasets`\n",
        "  - for example, MNIST, Fashion-MNIST, CIFAR10, COCO"
      ],
      "metadata": {
        "id": "Y_N86uyv5NPz"
      },
      "id": "Y_N86uyv5NPz"
    },
    {
      "cell_type": "code",
      "source": [
        "\"\"\"download the available data from torchvision and use DataLoader to prepare the data\"\"\"\n",
        "train_dataset = torchvision.datasets.MNIST(root='./data',\n",
        "                                           train=True,\n",
        "                                           transform=torchvision.transforms.ToTensor(),\n",
        "                                           download=True)\n",
        "\n",
        "train_loader = DataLoader(dataset=train_dataset, batch_size=3, shuffle=True)\n",
        "\n",
        "\"\"\"one random sample: to informations\"\"\"\n",
        "dataiter = iter(train_loader)\n",
        "data = next(dataiter)\n",
        "inputs, targets = data\n",
        "print(inputs.shape, targets.shape)"
      ],
      "metadata": {
        "colab": {
          "base_uri": "https://localhost:8080/"
        },
        "id": "j8RpNZI8m7IL",
        "outputId": "833f60c2-11db-4f4f-c4e7-b96728fe8616"
      },
      "id": "j8RpNZI8m7IL",
      "execution_count": 39,
      "outputs": [
        {
          "output_type": "stream",
          "name": "stdout",
          "text": [
            "torch.Size([3, 1, 28, 28]) torch.Size([3])\n"
          ]
        }
      ]
    },
    {
      "cell_type": "markdown",
      "source": [
        "## Try Some New Data"
      ],
      "metadata": {
        "id": "1-y0h3266_CC"
      },
      "id": "1-y0h3266_CC"
    },
    {
      "cell_type": "code",
      "source": [],
      "metadata": {
        "id": "tixAbWOK6-oY"
      },
      "id": "tixAbWOK6-oY",
      "execution_count": null,
      "outputs": []
    },
    {
      "cell_type": "code",
      "source": [],
      "metadata": {
        "id": "MlPmUCqBnPzZ"
      },
      "id": "MlPmUCqBnPzZ",
      "execution_count": null,
      "outputs": []
    }
  ],
  "metadata": {
    "kernelspec": {
      "display_name": "Python 3 (ipykernel)",
      "language": "python",
      "name": "python3"
    },
    "language_info": {
      "codemirror_mode": {
        "name": "ipython",
        "version": 3
      },
      "file_extension": ".py",
      "mimetype": "text/x-python",
      "name": "python",
      "nbconvert_exporter": "python",
      "pygments_lexer": "ipython3",
      "version": "3.11.3"
    },
    "colab": {
      "provenance": []
    }
  },
  "nbformat": 4,
  "nbformat_minor": 5
}