{
 "cells": [
  {
   "cell_type": "markdown",
   "id": "7ed0144d",
   "metadata": {},
   "source": [
    "# Calculation Gradient\n",
    "   - Tracking the history of the computation"
   ]
  },
  {
   "cell_type": "code",
   "execution_count": 1,
   "id": "a9d1da6b",
   "metadata": {},
   "outputs": [],
   "source": [
    "\"\"\"import modules\"\"\"\n",
    "import torch"
   ]
  },
  {
   "cell_type": "code",
   "execution_count": 2,
   "id": "94832d55",
   "metadata": {},
   "outputs": [
    {
     "name": "stdout",
     "output_type": "stream",
     "text": [
      "x is:\n",
      " tensor([-1.2643,  1.0159,  0.2505], requires_grad=True)\n"
     ]
    }
   ],
   "source": [
    "\"\"\"create random tensor\"\"\"\n",
    "x = torch.randn(3, requires_grad = True) # requires_grad = True is essential to create gradient function\n",
    "print(\"x is:\\n\",x)"
   ]
  },
  {
   "cell_type": "code",
   "execution_count": 3,
   "id": "af4639d0",
   "metadata": {},
   "outputs": [
    {
     "name": "stdout",
     "output_type": "stream",
     "text": [
      "y is:\n",
      " tensor([0.7357, 3.0159, 2.2505], grad_fn=<AddBackward0>)\n"
     ]
    }
   ],
   "source": [
    "\"\"\"example of gradient functions\"\"\"\n",
    "y = x + 2\n",
    "print(\"y is:\\n\",y) # return AddBackward, because the operator is addition"
   ]
  },
  {
   "cell_type": "markdown",
   "id": "cbd7379e",
   "metadata": {},
   "source": [
    "**Note:** this gradient function can be used to find the gradient value of y with respect to x: backpropagation "
   ]
  },
  {
   "cell_type": "code",
   "execution_count": 4,
   "id": "9489037f",
   "metadata": {},
   "outputs": [
    {
     "name": "stdout",
     "output_type": "stream",
     "text": [
      "z is:\n",
      " tensor([ 1.0825, 18.1908, 10.1292], grad_fn=<MulBackward0>)\n"
     ]
    }
   ],
   "source": [
    "z = y*y*2\n",
    "print(\"z is:\\n\",z) # return MulBackward, because the operator is multiplication"
   ]
  },
  {
   "cell_type": "code",
   "execution_count": 5,
   "id": "891b4975",
   "metadata": {},
   "outputs": [
    {
     "name": "stdout",
     "output_type": "stream",
     "text": [
      "z is:\n",
      " tensor(9.8008, grad_fn=<MeanBackward0>)\n"
     ]
    }
   ],
   "source": [
    "z = z.mean() # return an scalar output \n",
    "print(\"z is:\\n\",z) # return MeanBackward, because the operator is MeanBackward"
   ]
  },
  {
   "cell_type": "code",
   "execution_count": 6,
   "id": "f756f90d",
   "metadata": {},
   "outputs": [
    {
     "name": "stdout",
     "output_type": "stream",
     "text": [
      "tensor([0.9809, 4.0211, 3.0006])\n"
     ]
    }
   ],
   "source": [
    "\"\"\"gradient of recent z with respect to x\"\"\"\n",
    "z.backward() # dz/dx, no parameter value is necessary\n",
    "print(\"gradient value: \",x.grad)"
   ]
  },
  {
   "cell_type": "markdown",
   "id": "1dcdcdc9",
   "metadata": {},
   "source": [
    "**Note:** grad can be produced only for scalar output, otherwise it shows an error. Such as,"
   ]
  },
  {
   "cell_type": "code",
   "execution_count": 7,
   "id": "82d5eacd",
   "metadata": {},
   "outputs": [
    {
     "name": "stdout",
     "output_type": "stream",
     "text": [
      "z is:\n",
      " tensor([ 1.0825, 18.1908, 10.1292], grad_fn=<MulBackward0>)\n"
     ]
    },
    {
     "ename": "RuntimeError",
     "evalue": "grad can be implicitly created only for scalar outputs",
     "output_type": "error",
     "traceback": [
      "\u001b[0;31m---------------------------------------------------------------------------\u001b[0m",
      "\u001b[0;31mRuntimeError\u001b[0m                              Traceback (most recent call last)",
      "Cell \u001b[0;32mIn[7], line 4\u001b[0m\n\u001b[1;32m      1\u001b[0m z \u001b[38;5;241m=\u001b[39m y\u001b[38;5;241m*\u001b[39my\u001b[38;5;241m*\u001b[39m\u001b[38;5;241m2\u001b[39m \u001b[38;5;66;03m# don't return a scalar output\u001b[39;00m\n\u001b[1;32m      2\u001b[0m \u001b[38;5;28mprint\u001b[39m(\u001b[38;5;124m\"\u001b[39m\u001b[38;5;124mz is:\u001b[39m\u001b[38;5;130;01m\\n\u001b[39;00m\u001b[38;5;124m\"\u001b[39m,z)\n\u001b[0;32m----> 4\u001b[0m z\u001b[38;5;241m.\u001b[39mbackward() \u001b[38;5;66;03m# dz/dx\u001b[39;00m\n\u001b[1;32m      5\u001b[0m \u001b[38;5;28mprint\u001b[39m(x\u001b[38;5;241m.\u001b[39mgrad)\n",
      "File \u001b[0;32m~/anaconda3/lib/python3.11/site-packages/torch/_tensor.py:492\u001b[0m, in \u001b[0;36mTensor.backward\u001b[0;34m(self, gradient, retain_graph, create_graph, inputs)\u001b[0m\n\u001b[1;32m    482\u001b[0m \u001b[38;5;28;01mif\u001b[39;00m has_torch_function_unary(\u001b[38;5;28mself\u001b[39m):\n\u001b[1;32m    483\u001b[0m     \u001b[38;5;28;01mreturn\u001b[39;00m handle_torch_function(\n\u001b[1;32m    484\u001b[0m         Tensor\u001b[38;5;241m.\u001b[39mbackward,\n\u001b[1;32m    485\u001b[0m         (\u001b[38;5;28mself\u001b[39m,),\n\u001b[0;32m   (...)\u001b[0m\n\u001b[1;32m    490\u001b[0m         inputs\u001b[38;5;241m=\u001b[39minputs,\n\u001b[1;32m    491\u001b[0m     )\n\u001b[0;32m--> 492\u001b[0m torch\u001b[38;5;241m.\u001b[39mautograd\u001b[38;5;241m.\u001b[39mbackward(\n\u001b[1;32m    493\u001b[0m     \u001b[38;5;28mself\u001b[39m, gradient, retain_graph, create_graph, inputs\u001b[38;5;241m=\u001b[39minputs\n\u001b[1;32m    494\u001b[0m )\n",
      "File \u001b[0;32m~/anaconda3/lib/python3.11/site-packages/torch/autograd/__init__.py:244\u001b[0m, in \u001b[0;36mbackward\u001b[0;34m(tensors, grad_tensors, retain_graph, create_graph, grad_variables, inputs)\u001b[0m\n\u001b[1;32m    235\u001b[0m inputs \u001b[38;5;241m=\u001b[39m (\n\u001b[1;32m    236\u001b[0m     (inputs,)\n\u001b[1;32m    237\u001b[0m     \u001b[38;5;28;01mif\u001b[39;00m \u001b[38;5;28misinstance\u001b[39m(inputs, torch\u001b[38;5;241m.\u001b[39mTensor)\n\u001b[0;32m   (...)\u001b[0m\n\u001b[1;32m    240\u001b[0m     \u001b[38;5;28;01melse\u001b[39;00m \u001b[38;5;28mtuple\u001b[39m()\n\u001b[1;32m    241\u001b[0m )\n\u001b[1;32m    243\u001b[0m grad_tensors_ \u001b[38;5;241m=\u001b[39m _tensor_or_tensors_to_tuple(grad_tensors, \u001b[38;5;28mlen\u001b[39m(tensors))\n\u001b[0;32m--> 244\u001b[0m grad_tensors_ \u001b[38;5;241m=\u001b[39m _make_grads(tensors, grad_tensors_, is_grads_batched\u001b[38;5;241m=\u001b[39m\u001b[38;5;28;01mFalse\u001b[39;00m)\n\u001b[1;32m    245\u001b[0m \u001b[38;5;28;01mif\u001b[39;00m retain_graph \u001b[38;5;129;01mis\u001b[39;00m \u001b[38;5;28;01mNone\u001b[39;00m:\n\u001b[1;32m    246\u001b[0m     retain_graph \u001b[38;5;241m=\u001b[39m create_graph\n",
      "File \u001b[0;32m~/anaconda3/lib/python3.11/site-packages/torch/autograd/__init__.py:117\u001b[0m, in \u001b[0;36m_make_grads\u001b[0;34m(outputs, grads, is_grads_batched)\u001b[0m\n\u001b[1;32m    115\u001b[0m \u001b[38;5;28;01mif\u001b[39;00m out\u001b[38;5;241m.\u001b[39mrequires_grad:\n\u001b[1;32m    116\u001b[0m     \u001b[38;5;28;01mif\u001b[39;00m out\u001b[38;5;241m.\u001b[39mnumel() \u001b[38;5;241m!=\u001b[39m \u001b[38;5;241m1\u001b[39m:\n\u001b[0;32m--> 117\u001b[0m         \u001b[38;5;28;01mraise\u001b[39;00m \u001b[38;5;167;01mRuntimeError\u001b[39;00m(\n\u001b[1;32m    118\u001b[0m             \u001b[38;5;124m\"\u001b[39m\u001b[38;5;124mgrad can be implicitly created only for scalar outputs\u001b[39m\u001b[38;5;124m\"\u001b[39m\n\u001b[1;32m    119\u001b[0m         )\n\u001b[1;32m    120\u001b[0m     \u001b[38;5;28;01mif\u001b[39;00m \u001b[38;5;129;01mnot\u001b[39;00m out\u001b[38;5;241m.\u001b[39mdtype\u001b[38;5;241m.\u001b[39mis_floating_point:\n\u001b[1;32m    121\u001b[0m         msg \u001b[38;5;241m=\u001b[39m (\n\u001b[1;32m    122\u001b[0m             \u001b[38;5;124m\"\u001b[39m\u001b[38;5;124mgrad can be implicitly created only for real scalar outputs\u001b[39m\u001b[38;5;124m\"\u001b[39m\n\u001b[1;32m    123\u001b[0m             \u001b[38;5;124mf\u001b[39m\u001b[38;5;124m\"\u001b[39m\u001b[38;5;124m but got \u001b[39m\u001b[38;5;132;01m{\u001b[39;00mout\u001b[38;5;241m.\u001b[39mdtype\u001b[38;5;132;01m}\u001b[39;00m\u001b[38;5;124m\"\u001b[39m\n\u001b[1;32m    124\u001b[0m         )\n",
      "\u001b[0;31mRuntimeError\u001b[0m: grad can be implicitly created only for scalar outputs"
     ]
    }
   ],
   "source": [
    "\"\"\"grad or backward is not possible for non scalar outputs\"\"\"\n",
    "z = y*y*2 # don't return a scalar output\n",
    "print(\"z is:\\n\",z)\n",
    "\n",
    "z.backward() # dz/dx\n",
    "print(x.grad)"
   ]
  },
  {
   "cell_type": "markdown",
   "id": "329a0798",
   "metadata": {},
   "source": [
    "**Note:** in order to solve the problem, we need to use a vector with same size as output, in the function backward as a parameter. Such as,"
   ]
  },
  {
   "cell_type": "code",
   "execution_count": 10,
   "id": "37898af0",
   "metadata": {},
   "outputs": [
    {
     "name": "stdout",
     "output_type": "stream",
     "text": [
      "z is:\n",
      " tensor([ 1.0825, 18.1908, 10.1292], grad_fn=<MulBackward0>)\n",
      "\n",
      "gradient value:  tensor([ 1.8638, 40.2115,  3.0276])\n"
     ]
    }
   ],
   "source": [
    "\"\"\"grad or backward for non scalar outputs\"\"\"\n",
    "z = y*y*2 # don't return a scalar output\n",
    "print(\"z is:\\n\",z)\n",
    "\n",
    "v = torch.tensor([0.1, 1.0, 0.001], dtype = torch.float32) # vector with same size as output\n",
    "\n",
    "z.backward(v) # dz/dx, use the vector as parameter value\n",
    "print(\"\\ngradient value: \",x.grad)"
   ]
  },
  {
   "cell_type": "markdown",
   "id": "4f98fb01",
   "metadata": {},
   "source": [
    "**Prevent Tesnor from Calculating the Gradient, by using three methods:**\n",
    "   - assume we have a tensor x, then:\n",
    "       - x.requires_grad_(False)\n",
    "       - x.detach()\n",
    "       - with torch.no_grad():"
   ]
  },
  {
   "cell_type": "code",
   "execution_count": 11,
   "id": "2037db6a",
   "metadata": {},
   "outputs": [
    {
     "name": "stdout",
     "output_type": "stream",
     "text": [
      "x is:\n",
      " tensor([-0.8556,  0.9844,  2.5797], requires_grad=True)\n"
     ]
    }
   ],
   "source": [
    "\"\"\"create random tensor\"\"\"\n",
    "x = torch.randn(3, requires_grad = True) # requires_grad = True is essential to create gradient function\n",
    "print(\"x is:\\n\",x)"
   ]
  },
  {
   "cell_type": "code",
   "execution_count": 12,
   "id": "4ab55903",
   "metadata": {},
   "outputs": [
    {
     "name": "stdout",
     "output_type": "stream",
     "text": [
      "x is:\n",
      " tensor([-0.8556,  0.9844,  2.5797])\n"
     ]
    }
   ],
   "source": [
    "\"\"\"using inplace operator\"\"\"\n",
    "x.requires_grad_(False)\n",
    "print(\"x is:\\n\",x)"
   ]
  },
  {
   "cell_type": "code",
   "execution_count": 13,
   "id": "161b9c4c",
   "metadata": {},
   "outputs": [
    {
     "name": "stdout",
     "output_type": "stream",
     "text": [
      "y is:\n",
      " tensor([-0.8556,  0.9844,  2.5797])\n"
     ]
    }
   ],
   "source": [
    "\"\"\"by making a vector\"\"\"\n",
    "y = x.detach()\n",
    "print(\"y is:\\n\",y)"
   ]
  },
  {
   "cell_type": "code",
   "execution_count": 14,
   "id": "35457281",
   "metadata": {},
   "outputs": [
    {
     "name": "stdout",
     "output_type": "stream",
     "text": [
      "y is:\n",
      " tensor([1.1444, 2.9844, 4.5797])\n"
     ]
    }
   ],
   "source": [
    "\"\"\"by torch statement\"\"\"\n",
    "with torch.no_grad():\n",
    "    y = x+2\n",
    "print(\"y is:\\n\",y)"
   ]
  },
  {
   "cell_type": "markdown",
   "id": "8a1cfad2",
   "metadata": {},
   "source": [
    "**Note:** we must empty our gradient in the training loop (for each steps), otherwise we will get wrong outcomes."
   ]
  },
  {
   "cell_type": "code",
   "execution_count": 16,
   "id": "fb62e1ea",
   "metadata": {},
   "outputs": [
    {
     "name": "stdout",
     "output_type": "stream",
     "text": [
      "gradient value in the epoch 0 is: tensor([3., 3., 3., 3.])\n",
      "gradient value in the epoch 1 is: tensor([6., 6., 6., 6.])\n",
      "gradient value in the epoch 2 is: tensor([9., 9., 9., 9.])\n"
     ]
    }
   ],
   "source": [
    "\"\"\"wrong approach\"\"\"\n",
    "weights = torch.ones(4, requires_grad = True)\n",
    "\n",
    "for epoch in range(3):\n",
    "    model_output = (weights * 3).sum()\n",
    "    model_output.backward()\n",
    "    print(\"gradient value in the epoch {} is: {}\".format(epoch, weights.grad))"
   ]
  },
  {
   "cell_type": "code",
   "execution_count": 18,
   "id": "9082602d",
   "metadata": {},
   "outputs": [
    {
     "name": "stdout",
     "output_type": "stream",
     "text": [
      "gradient value in the epoch 0 is: tensor([3., 3., 3., 3.])\n",
      "gradient value in the epoch 1 is: tensor([3., 3., 3., 3.])\n",
      "gradient value in the epoch 2 is: tensor([3., 3., 3., 3.])\n"
     ]
    }
   ],
   "source": [
    "\"\"\"right approach\"\"\"\n",
    "weights = torch.ones(4, requires_grad = True)\n",
    "\n",
    "for epoch in range(3):\n",
    "    model_output = (weights * 3).sum()\n",
    "    model_output.backward()\n",
    "    print(\"gradient value in the epoch {} is: {}\".format(epoch, weights.grad))\n",
    "    weights.grad.zero_() # set the gradient value to zero after each loop"
   ]
  },
  {
   "cell_type": "markdown",
   "id": "8d1febf8",
   "metadata": {},
   "source": [
    "**Note:** we can use optimizer to calculate gradient value, but for each cases, we must set the gradient to zero after each iteration."
   ]
  },
  {
   "cell_type": "code",
   "execution_count": null,
   "id": "be6c6b50",
   "metadata": {},
   "outputs": [],
   "source": []
  }
 ],
 "metadata": {
  "kernelspec": {
   "display_name": "Python 3 (ipykernel)",
   "language": "python",
   "name": "python3"
  },
  "language_info": {
   "codemirror_mode": {
    "name": "ipython",
    "version": 3
   },
   "file_extension": ".py",
   "mimetype": "text/x-python",
   "name": "python",
   "nbconvert_exporter": "python",
   "pygments_lexer": "ipython3",
   "version": "3.11.5"
  }
 },
 "nbformat": 4,
 "nbformat_minor": 5
}
