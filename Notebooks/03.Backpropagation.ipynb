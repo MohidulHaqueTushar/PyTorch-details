{
 "cells": [
  {
   "cell_type": "markdown",
   "id": "496b1d65",
   "metadata": {},
   "source": [
    "# Backpropagation\n",
    "   - Chain Rule\n",
    "   - Computational Graph\n",
    "   - Three steps:\n",
    "       - 01. Forward Pass: apply all functions, and compute loss\n",
    "       - 02. Compute Local Gradients\n",
    "       - 03. Backward Pass: compute gradient of the loss with respect to the weights in each node (dLoss/dWeights) by using the chain rule.\n",
    "      \n",
    "**Note:** Main target is to minimize the loss, where the training data (input and output) are fixed. So, we have to update the weights to get the perfect target, and for that we need gradient of the loss with respect to weights. "
   ]
  },
  {
   "cell_type": "code",
   "execution_count": 5,
   "id": "4734feaf",
   "metadata": {},
   "outputs": [],
   "source": [
    "\"\"\"import module\"\"\"\n",
    "import torch"
   ]
  },
  {
   "cell_type": "code",
   "execution_count": 6,
   "id": "eb933506",
   "metadata": {},
   "outputs": [],
   "source": [
    "\"\"\"fixed training data\"\"\"\n",
    "x = torch.tensor(1.0)\n",
    "y = torch.tensor(2.0)"
   ]
  },
  {
   "cell_type": "code",
   "execution_count": 7,
   "id": "42cc0707",
   "metadata": {},
   "outputs": [],
   "source": [
    "\"\"\"weight vector\"\"\"\n",
    "w = torch.tensor(1.0, requires_grad = True)"
   ]
  },
  {
   "cell_type": "code",
   "execution_count": 8,
   "id": "65c50044",
   "metadata": {},
   "outputs": [
    {
     "name": "stdout",
     "output_type": "stream",
     "text": [
      "The loss is:  tensor(1., grad_fn=<PowBackward0>)\n"
     ]
    }
   ],
   "source": [
    "\"\"\"forward pass and compute the loss\"\"\"\n",
    "y_hat = x * w #our function\n",
    "loss = (y - y_hat)**2\n",
    "print(\"The loss is: \",loss)"
   ]
  },
  {
   "cell_type": "code",
   "execution_count": 9,
   "id": "ba3857f1",
   "metadata": {},
   "outputs": [
    {
     "name": "stdout",
     "output_type": "stream",
     "text": [
      "First gradient value:  tensor(-2.)\n"
     ]
    }
   ],
   "source": [
    "\"\"\"backward pass: PyTorch compute local gradient and backword pass automatically\"\"\"\n",
    "loss.backward()\n",
    "print(\"First gradient value: \",w.grad)"
   ]
  },
  {
   "cell_type": "markdown",
   "id": "421b77a5",
   "metadata": {},
   "source": [
    "## Next Steps:\n",
    "   - Update weights\n",
    "   - Next Forward and Backward Pass untill we get desired result"
   ]
  },
  {
   "cell_type": "code",
   "execution_count": null,
   "id": "8af39b45",
   "metadata": {},
   "outputs": [],
   "source": []
  }
 ],
 "metadata": {
  "kernelspec": {
   "display_name": "Python 3 (ipykernel)",
   "language": "python",
   "name": "python3"
  },
  "language_info": {
   "codemirror_mode": {
    "name": "ipython",
    "version": 3
   },
   "file_extension": ".py",
   "mimetype": "text/x-python",
   "name": "python",
   "nbconvert_exporter": "python",
   "pygments_lexer": "ipython3",
   "version": "3.11.5"
  }
 },
 "nbformat": 4,
 "nbformat_minor": 5
}
