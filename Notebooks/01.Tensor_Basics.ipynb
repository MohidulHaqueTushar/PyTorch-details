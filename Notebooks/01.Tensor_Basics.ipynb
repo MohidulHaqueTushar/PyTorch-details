{
 "cells": [
  {
   "cell_type": "markdown",
   "id": "74d53d2b",
   "metadata": {},
   "source": [
    "# Tensor Basics"
   ]
  },
  {
   "cell_type": "code",
   "execution_count": 36,
   "id": "111b38b1",
   "metadata": {},
   "outputs": [],
   "source": [
    "\"\"\"import module\"\"\"\n",
    "import torch\n",
    "import numpy as np"
   ]
  },
  {
   "cell_type": "code",
   "execution_count": 2,
   "id": "36f505ec",
   "metadata": {},
   "outputs": [
    {
     "name": "stdout",
     "output_type": "stream",
     "text": [
      "tensor([ 0.0000e+00,  2.5244e-29, -1.8275e-33])\n"
     ]
    }
   ],
   "source": [
    "\"\"\"empty 1D tensor with 3 elements\"\"\"\n",
    "x = torch.empty(3)\n",
    "print(x)"
   ]
  },
  {
   "cell_type": "code",
   "execution_count": 3,
   "id": "37e289c3",
   "metadata": {},
   "outputs": [
    {
     "name": "stdout",
     "output_type": "stream",
     "text": [
      "tensor([[3.6742e-42, 0.0000e+00, 9.7566e-37],\n",
      "        [1.0050e-36, 0.0000e+00, 2.5244e-29]])\n"
     ]
    }
   ],
   "source": [
    "\"\"\"empty 2D tensor \"\"\"\n",
    "x = torch.empty(2,3)\n",
    "print(x)"
   ]
  },
  {
   "cell_type": "code",
   "execution_count": 4,
   "id": "9b6696fb",
   "metadata": {},
   "outputs": [
    {
     "name": "stdout",
     "output_type": "stream",
     "text": [
      "tensor([[[7.4630e-33, 1.4013e-45, 6.8361e-34],\n",
      "         [1.4013e-45, 7.0731e-34, 1.4013e-45],\n",
      "         [7.0716e-34, 1.4013e-45, 1.0641e-33]],\n",
      "\n",
      "        [[1.4013e-45, 6.9840e-34, 1.4013e-45],\n",
      "         [7.4133e-33, 1.4013e-45, 6.8659e-34],\n",
      "         [1.4013e-45, 6.7085e-33, 1.4013e-45]]])\n"
     ]
    }
   ],
   "source": [
    "\"\"\"empty 3D tensor \"\"\"\n",
    "x = torch.empty(2,3,3)\n",
    "print(x)"
   ]
  },
  {
   "cell_type": "markdown",
   "id": "fa257950",
   "metadata": {},
   "source": [
    "**Note:** Dimensions can be more in tensor, based on our tasks."
   ]
  },
  {
   "cell_type": "code",
   "execution_count": 5,
   "id": "734032c6",
   "metadata": {},
   "outputs": [
    {
     "name": "stdout",
     "output_type": "stream",
     "text": [
      "tensor([[0.0273, 0.1154, 0.5889],\n",
      "        [0.5341, 0.1374, 0.3637]])\n"
     ]
    }
   ],
   "source": [
    "\"\"\"tensor with random values\"\"\"\n",
    "x = torch.rand(2,3)\n",
    "print(x)"
   ]
  },
  {
   "cell_type": "code",
   "execution_count": 6,
   "id": "458a4e67",
   "metadata": {},
   "outputs": [
    {
     "name": "stdout",
     "output_type": "stream",
     "text": [
      "tensor([[0., 0., 0.],\n",
      "        [0., 0., 0.]])\n"
     ]
    }
   ],
   "source": [
    "\"\"\"zeros tensors\"\"\"\n",
    "x = torch.zeros(2,3)\n",
    "print(x)"
   ]
  },
  {
   "cell_type": "code",
   "execution_count": 7,
   "id": "4927cf04",
   "metadata": {},
   "outputs": [
    {
     "name": "stdout",
     "output_type": "stream",
     "text": [
      "tensor([[1., 1., 1.],\n",
      "        [1., 1., 1.]])\n",
      "\n",
      "The data type is:  torch.float32\n"
     ]
    }
   ],
   "source": [
    "\"\"\"ones tensor \"\"\"\n",
    "x = torch.ones(2,3)\n",
    "print(x)\n",
    "\n",
    "print(\"\\nThe data type is: \",x.dtype) #data type by default"
   ]
  },
  {
   "cell_type": "markdown",
   "id": "0c865d8e",
   "metadata": {},
   "source": [
    "**Note:** default data type is torch.float32"
   ]
  },
  {
   "cell_type": "code",
   "execution_count": 8,
   "id": "0ab1d994",
   "metadata": {},
   "outputs": [
    {
     "name": "stdout",
     "output_type": "stream",
     "text": [
      "tensor([[1, 1],\n",
      "        [1, 1]], dtype=torch.int32)\n",
      "The data type is:  torch.int32 \n",
      "\n",
      "tensor([[1., 1.],\n",
      "        [1., 1.]], dtype=torch.float64)\n",
      "The data type is:  torch.float64 \n",
      "\n",
      "tensor([[1., 1.],\n",
      "        [1., 1.]], dtype=torch.float64)\n",
      "The data type is:  torch.float64 \n",
      "\n"
     ]
    }
   ],
   "source": [
    "\"\"\"different data types\"\"\"\n",
    "x = torch.ones(2,2, dtype = torch.int)\n",
    "print(x)\n",
    "print(\"The data type is: \",x.dtype, \"\\n\")\n",
    "\n",
    "x = torch.ones(2,2, dtype = torch.float64)\n",
    "print(x)\n",
    "print(\"The data type is: \",x.dtype, \"\\n\")\n",
    "\n",
    "x = torch.ones(2,2, dtype = torch.double)\n",
    "print(x)\n",
    "print(\"The data type is: \",x.dtype, \"\\n\")"
   ]
  },
  {
   "cell_type": "code",
   "execution_count": 9,
   "id": "99a7e993",
   "metadata": {},
   "outputs": [
    {
     "name": "stdout",
     "output_type": "stream",
     "text": [
      "tensor([[1., 1., 1.],\n",
      "        [1., 1., 1.]])\n",
      "\n",
      "The shape is:  torch.Size([2, 3])\n"
     ]
    }
   ],
   "source": [
    "\"\"\"looking at the shape\"\"\"\n",
    "x = torch.ones(2,3)\n",
    "print(x)\n",
    "\n",
    "print(\"\\nThe shape is: \",x.size())"
   ]
  },
  {
   "cell_type": "code",
   "execution_count": 10,
   "id": "69b77de3",
   "metadata": {},
   "outputs": [
    {
     "name": "stdout",
     "output_type": "stream",
     "text": [
      "tensor([2.5000, 1.4000])\n"
     ]
    }
   ],
   "source": [
    "\"\"\"from list to tensor\"\"\"\n",
    "list_1 = [2.5, 1.4]\n",
    "x = torch.tensor(list_1)\n",
    "print(x)"
   ]
  },
  {
   "cell_type": "markdown",
   "id": "8bfd8ec9",
   "metadata": {},
   "source": [
    "## Basic Operations"
   ]
  },
  {
   "cell_type": "code",
   "execution_count": 11,
   "id": "84cd2253",
   "metadata": {},
   "outputs": [
    {
     "name": "stdout",
     "output_type": "stream",
     "text": [
      "x is:\n",
      " tensor([[0.1367, 0.1308],\n",
      "        [0.7800, 0.1748]])\n",
      "y is:\n",
      " tensor([[0.4870, 0.5225],\n",
      "        [0.4195, 0.6217]])\n"
     ]
    }
   ],
   "source": [
    "\"\"\"creating two random tensors\"\"\"\n",
    "x = torch.rand(2,2)\n",
    "y = torch.rand(2,2)\n",
    "\n",
    "print(\"x is:\\n\",x)\n",
    "print(\"y is:\\n\",y)"
   ]
  },
  {
   "cell_type": "code",
   "execution_count": 12,
   "id": "9099cd20",
   "metadata": {},
   "outputs": [
    {
     "name": "stdout",
     "output_type": "stream",
     "text": [
      "z is:\n",
      " tensor([[0.6238, 0.6533],\n",
      "        [1.1994, 0.7965]])\n"
     ]
    }
   ],
   "source": [
    "\"\"\"elementwise addition of tensors\"\"\"\n",
    "z = x+y\n",
    "print(\"z is:\\n\",z)"
   ]
  },
  {
   "cell_type": "code",
   "execution_count": 13,
   "id": "587d184e",
   "metadata": {},
   "outputs": [
    {
     "name": "stdout",
     "output_type": "stream",
     "text": [
      "z is:\n",
      " tensor([[0.6238, 0.6533],\n",
      "        [1.1994, 0.7965]])\n"
     ]
    }
   ],
   "source": [
    "\"\"\"using functions\"\"\"\n",
    "z = torch.add(x,y)\n",
    "print(\"z is:\\n\",z)"
   ]
  },
  {
   "cell_type": "code",
   "execution_count": 14,
   "id": "66579b46",
   "metadata": {},
   "outputs": [
    {
     "name": "stdout",
     "output_type": "stream",
     "text": [
      "c is:\n",
      " tensor([[0.6238, 0.6533],\n",
      "        [1.1994, 0.7965]])\n"
     ]
    }
   ],
   "source": [
    "\"\"\"add by using inplace operator\"\"\"\n",
    "c = y.add_(x) #this can directly modefy y\n",
    "print(\"c is:\\n\",c)"
   ]
  },
  {
   "cell_type": "code",
   "execution_count": 15,
   "id": "01e4bca2",
   "metadata": {},
   "outputs": [
    {
     "name": "stdout",
     "output_type": "stream",
     "text": [
      "z is:\n",
      " tensor([[-0.4870, -0.5225],\n",
      "        [-0.4195, -0.6217]])\n",
      "z is:\n",
      " tensor([[-0.4870, -0.5225],\n",
      "        [-0.4195, -0.6217]])\n"
     ]
    }
   ],
   "source": [
    "\"\"\"elementwise subtractions\"\"\"\n",
    "z = x-y\n",
    "print(\"z is:\\n\",z)\n",
    "\n",
    "z = torch.sub(x,y)\n",
    "print(\"z is:\\n\",z)"
   ]
  },
  {
   "cell_type": "code",
   "execution_count": 16,
   "id": "523c4d11",
   "metadata": {},
   "outputs": [
    {
     "name": "stdout",
     "output_type": "stream",
     "text": [
      "c is:\n",
      " tensor([[0.4870, 0.5225],\n",
      "        [0.4195, 0.6217]])\n"
     ]
    }
   ],
   "source": [
    "\"\"\"substract by using inplace operator\"\"\"\n",
    "c = y.sub_(x) #this can directly modefy y\n",
    "print(\"c is:\\n\",c)"
   ]
  },
  {
   "cell_type": "code",
   "execution_count": 17,
   "id": "aa9fcd86",
   "metadata": {},
   "outputs": [
    {
     "name": "stdout",
     "output_type": "stream",
     "text": [
      "z is:\n",
      " tensor([[0.0666, 0.0683],\n",
      "        [0.3272, 0.1087]])\n",
      "z is:\n",
      " tensor([[0.0666, 0.0683],\n",
      "        [0.3272, 0.1087]])\n"
     ]
    }
   ],
   "source": [
    "\"\"\"elementwise multiplications\"\"\"\n",
    "z = x*y\n",
    "print(\"z is:\\n\",z)\n",
    "\n",
    "z = torch.mul(x,y)\n",
    "print(\"z is:\\n\",z)"
   ]
  },
  {
   "cell_type": "code",
   "execution_count": 18,
   "id": "66e7bae4",
   "metadata": {},
   "outputs": [
    {
     "name": "stdout",
     "output_type": "stream",
     "text": [
      "c is:\n",
      " tensor([[0.0666, 0.0683],\n",
      "        [0.3272, 0.1087]])\n"
     ]
    }
   ],
   "source": [
    "\"\"\"multiplications by using inplace operator\"\"\"\n",
    "c = y.mul_(x) #this can directly modefy y\n",
    "print(\"c is:\\n\",c)"
   ]
  },
  {
   "cell_type": "code",
   "execution_count": 19,
   "id": "6fbc62e5",
   "metadata": {},
   "outputs": [
    {
     "name": "stdout",
     "output_type": "stream",
     "text": [
      "z is:\n",
      " tensor([[2.0534, 1.9138],\n",
      "        [2.3840, 1.6085]])\n",
      "z is:\n",
      " tensor([[2.0534, 1.9138],\n",
      "        [2.3840, 1.6085]])\n"
     ]
    }
   ],
   "source": [
    "\"\"\"elementwise divisions\"\"\"\n",
    "z = x/y\n",
    "print(\"z is:\\n\",z)\n",
    "\n",
    "z = torch.div(x,y)\n",
    "print(\"z is:\\n\",z)"
   ]
  },
  {
   "cell_type": "code",
   "execution_count": 20,
   "id": "415e4402",
   "metadata": {},
   "outputs": [
    {
     "name": "stdout",
     "output_type": "stream",
     "text": [
      "c is:\n",
      " tensor([[0.4870, 0.5225],\n",
      "        [0.4195, 0.6217]])\n"
     ]
    }
   ],
   "source": [
    "\"\"\"divisions by using inplace operator\"\"\"\n",
    "c = y.div_(x) #this can directly modefy y\n",
    "print(\"c is:\\n\",c)"
   ]
  },
  {
   "cell_type": "markdown",
   "id": "60dfb0ce",
   "metadata": {},
   "source": [
    "## Slice Tensor"
   ]
  },
  {
   "cell_type": "code",
   "execution_count": 32,
   "id": "b3db8332",
   "metadata": {},
   "outputs": [
    {
     "name": "stdout",
     "output_type": "stream",
     "text": [
      "x is:\n",
      " tensor([[0.1673, 0.5566, 0.8198],\n",
      "        [0.7701, 0.1661, 0.8031],\n",
      "        [0.8131, 0.0846, 0.7953],\n",
      "        [0.5234, 0.4021, 0.6992],\n",
      "        [0.1767, 0.2628, 0.1428]])\n",
      "\n",
      "full first column:\n",
      " tensor([0.1673, 0.7701, 0.8131, 0.5234, 0.1767])\n",
      "\n",
      "full first row:\n",
      " tensor([0.1673, 0.5566, 0.8198])\n",
      "\n",
      "full second column:\n",
      " tensor([0.5566, 0.1661, 0.0846, 0.4021, 0.2628])\n",
      "\n",
      "full second row:\n",
      " tensor([0.7701, 0.1661, 0.8031])\n",
      "\n",
      "specific element position:\n",
      " tensor(0.1661)\n"
     ]
    }
   ],
   "source": [
    "\"\"\"tensor sliceing\"\"\"\n",
    "x = torch.rand(5,3)\n",
    "print(\"x is:\\n\",x) #full tensor\n",
    "print(\"\\nfull first column:\\n\",x[:,0])\n",
    "print(\"\\nfull first row:\\n\",x[0,:])\n",
    "print(\"\\nfull second column:\\n\",x[:,1])\n",
    "print(\"\\nfull second row:\\n\",x[1,:])\n",
    "print(\"\\nspecific element from fixed position:\\n\",x[1,1]) #return tensor with one element"
   ]
  },
  {
   "cell_type": "markdown",
   "id": "826c4660",
   "metadata": {},
   "source": [
    "**Note:** if we have only one value in a tensor then we can get an actual value, such as, "
   ]
  },
  {
   "cell_type": "code",
   "execution_count": 33,
   "id": "6617fa7b",
   "metadata": {},
   "outputs": [
    {
     "name": "stdout",
     "output_type": "stream",
     "text": [
      "\n",
      "specific element from fixed position:\n",
      " tensor(0.1661)\n",
      "\n",
      "actual value:\n",
      " 0.1660732626914978\n"
     ]
    }
   ],
   "source": [
    "print(\"\\nspecific element from fixed position:\\n\",x[1,1]) #return tensor with one element\n",
    "print(\"\\nactual value:\\n\",x[1,1].item()) #print the actual value"
   ]
  },
  {
   "cell_type": "code",
   "execution_count": 35,
   "id": "b4d74b16",
   "metadata": {},
   "outputs": [
    {
     "name": "stdout",
     "output_type": "stream",
     "text": [
      "\n",
      "x is:\n",
      " tensor([[0.7174, 0.7981, 0.1795, 0.0218],\n",
      "        [0.5247, 0.3388, 0.9068, 0.4909],\n",
      "        [0.3043, 0.4821, 0.8294, 0.9601],\n",
      "        [0.1377, 0.4732, 0.0550, 0.1595]])\n",
      "\n",
      "v is:\n",
      " tensor([0.7174, 0.7981, 0.1795, 0.0218, 0.5247, 0.3388, 0.9068, 0.4909, 0.3043,\n",
      "        0.4821, 0.8294, 0.9601, 0.1377, 0.4732, 0.0550, 0.1595])\n",
      "shape of v:\n",
      " torch.Size([16])\n",
      "\n",
      "v is:\n",
      " tensor([[0.7174, 0.7981, 0.1795, 0.0218, 0.5247, 0.3388, 0.9068, 0.4909],\n",
      "        [0.3043, 0.4821, 0.8294, 0.9601, 0.1377, 0.4732, 0.0550, 0.1595]])\n",
      "shape of v:\n",
      " torch.Size([2, 8])\n"
     ]
    }
   ],
   "source": [
    "\"\"\"reshaping a tensor\"\"\"\n",
    "x = torch.rand(4,4)\n",
    "print(\"\\nx is:\\n\",x)\n",
    "\n",
    "v = x.view(16) # 4*4 = 16, makes it one dimensional tensor\n",
    "print(\"\\nv is:\\n\",v)\n",
    "print(\"shape of v:\\n\",v.size())\n",
    "\n",
    "w = x.view(-1, 8) # PyTorch automatically determine the dimensions of the tensor by 8\n",
    "print(\"\\nv is:\\n\",w)\n",
    "print(\"shape of v:\\n\",w.size())"
   ]
  },
  {
   "cell_type": "markdown",
   "id": "81985a16",
   "metadata": {},
   "source": [
    "## Numpy to Torch Tensor\n",
    "   - If we create tensor from numpy array, they both share the same memory location. If we change one, then the other one automatically change."
   ]
  },
  {
   "cell_type": "code",
   "execution_count": 46,
   "id": "0d2e991d",
   "metadata": {},
   "outputs": [
    {
     "name": "stdout",
     "output_type": "stream",
     "text": [
      "a is:\n",
      " tensor([1., 1., 1., 1., 1.]) \n",
      "and the type:  <class 'torch.Tensor'>\n",
      "\n",
      "b is:\n",
      " [1. 1. 1. 1. 1.] \n",
      "and the type:  <class 'numpy.ndarray'>\n",
      "\n",
      "chanage one automatically change other one:\n",
      "\n",
      "a is:\n",
      " tensor([2., 2., 2., 2., 2.]) \n",
      "and the type:  <class 'torch.Tensor'>\n",
      "\n",
      "b is:\n",
      " [2. 2. 2. 2. 2.] \n",
      "and the type:  <class 'numpy.ndarray'>\n"
     ]
    }
   ],
   "source": [
    "\"\"\"tensor to numpy array\"\"\"\n",
    "a = torch.ones(5)\n",
    "print(\"a is:\\n\",a, \"\\nand the type: \",type(a))\n",
    "b = a.numpy()\n",
    "print(\"\\nb is:\\n\",b, \"\\nand the type: \",type(b))\n",
    "\n",
    "print(\"\\nchanage one automatically change other one:\")\n",
    "\"\"\"chanage one automatically change other one\"\"\"\n",
    "a.add_(1) #using inplace addition\n",
    "\n",
    "print(\"\\na is:\\n\",a, \"\\nand the type: \",type(a))\n",
    "print(\"\\nb is:\\n\",b, \"\\nand the type: \",type(b))"
   ]
  },
  {
   "cell_type": "code",
   "execution_count": 47,
   "id": "1ad9ebb1",
   "metadata": {},
   "outputs": [
    {
     "name": "stdout",
     "output_type": "stream",
     "text": [
      "a is:\n",
      " [1. 1. 1. 1. 1.] \n",
      "and the type:  <class 'numpy.ndarray'>\n",
      "\n",
      "b is:\n",
      " tensor([1., 1., 1., 1., 1.], dtype=torch.float64) \n",
      "and the type:  <class 'torch.Tensor'>\n",
      "\n",
      "chanage one automatically change other one:\n",
      "\n",
      "a is:\n",
      " [2. 2. 2. 2. 2.] \n",
      "and the type:  <class 'numpy.ndarray'>\n",
      "\n",
      "b is:\n",
      " tensor([2., 2., 2., 2., 2.], dtype=torch.float64) \n",
      "and the type:  <class 'torch.Tensor'>\n"
     ]
    }
   ],
   "source": [
    "\"\"\"numpy array to tensor\"\"\"\n",
    "a = np.ones(5)\n",
    "print(\"a is:\\n\",a, \"\\nand the type: \",type(a))\n",
    "b = torch.from_numpy(a)\n",
    "print(\"\\nb is:\\n\",b, \"\\nand the type: \",type(b))\n",
    "\n",
    "print(\"\\nchanage one automatically change other one:\")\n",
    "\"\"\"chanage one automatically change other one\"\"\"\n",
    "a += 1 # increment by one\n",
    "\n",
    "print(\"\\na is:\\n\",a, \"\\nand the type: \",type(a))\n",
    "print(\"\\nb is:\\n\",b, \"\\nand the type: \",type(b))"
   ]
  },
  {
   "cell_type": "markdown",
   "id": "b28a047e",
   "metadata": {},
   "source": [
    "**Note:** data type by default float64, we can fix it if we want."
   ]
  },
  {
   "cell_type": "markdown",
   "id": "cc6147d1",
   "metadata": {},
   "source": [
    "**Note:** numpy can only handle CPU tensor, GPU tensor can't be handle by numpy operator. "
   ]
  },
  {
   "cell_type": "code",
   "execution_count": 49,
   "id": "7be81f64",
   "metadata": {},
   "outputs": [
    {
     "name": "stdout",
     "output_type": "stream",
     "text": [
      "GPU is not available!\n"
     ]
    }
   ],
   "source": [
    "\"\"\"creating torch tensor using GPU\"\"\"\n",
    "\n",
    "if torch.cuda.is_available():\n",
    "    device = torch.device(\"cuda\")\n",
    "    x = torch.ones(5, device = device) # device assign directly, gpu tensor\n",
    "    y = torch.ones(5)\n",
    "    y = y.to(device) # shifting cpu tensor to gpu\n",
    "    z = x+y # gpu tensor, can't be modefied by numpy\n",
    "    z = z.to(\"cpu\") # convert to cpu tensor, can be modefied by numpy\n",
    "else:\n",
    "    print(\"GPU is not available!\")\n",
    "    "
   ]
  },
  {
   "cell_type": "code",
   "execution_count": 50,
   "id": "53dda5ac",
   "metadata": {},
   "outputs": [
    {
     "name": "stdout",
     "output_type": "stream",
     "text": [
      "x is:\n",
      " tensor([1., 1., 1., 1., 1.], requires_grad=True)\n"
     ]
    }
   ],
   "source": [
    "\"\"\"if gradient need to be calculated\"\"\"\n",
    "x = torch.ones(5, requires_grad = True)\n",
    "print(\"x is:\\n\",x)"
   ]
  },
  {
   "cell_type": "code",
   "execution_count": null,
   "id": "a9b6735f",
   "metadata": {},
   "outputs": [],
   "source": []
  }
 ],
 "metadata": {
  "kernelspec": {
   "display_name": "Python 3 (ipykernel)",
   "language": "python",
   "name": "python3"
  },
  "language_info": {
   "codemirror_mode": {
    "name": "ipython",
    "version": 3
   },
   "file_extension": ".py",
   "mimetype": "text/x-python",
   "name": "python",
   "nbconvert_exporter": "python",
   "pygments_lexer": "ipython3",
   "version": "3.11.5"
  }
 },
 "nbformat": 4,
 "nbformat_minor": 5
}
