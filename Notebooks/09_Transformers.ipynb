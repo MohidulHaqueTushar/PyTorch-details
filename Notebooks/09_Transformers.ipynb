{
  "nbformat": 4,
  "nbformat_minor": 0,
  "metadata": {
    "colab": {
      "provenance": []
    },
    "kernelspec": {
      "name": "python3",
      "display_name": "Python 3"
    },
    "language_info": {
      "name": "python"
    }
  },
  "cells": [
    {
      "cell_type": "markdown",
      "source": [
        "## Transforms can be applied to:\n",
        "  - PIL Images\n",
        "  - Tensors\n",
        "  - ndarrays\n",
        "  - Custom Data\n",
        "\n",
        "Complete list of built-in transforms: [click here](https://pytorch.org/docs/stable/torchvision/transforms.html)\n",
        "\n",
        "On Images\n",
        "---------\n",
        "CenterCrop, Grayscale, Pad, RandomAffine\n",
        "RandomCrop, RandomHorizontalFlip, RandomRotation\n",
        "Resize, Scale\n",
        "\n",
        "On Tensors\n",
        "----------\n",
        "LinearTransformation, Normalize, RandomErasing\n",
        "\n",
        "Conversion\n",
        "----------\n",
        "ToPILImage: from tensor or ndrarray\n",
        "ToTensor : from numpy.ndarray or PILImage\n",
        "\n",
        "Generic\n",
        "-------\n",
        "Use Lambda\n",
        "\n",
        "Custom\n",
        "------\n",
        "Write own class\n",
        "\n",
        "Compose multiple Transforms (list of transforms)\n",
        "------------------------------------------------\n",
        "composed = transforms.Compose([ReScale(256),\n",
        "                               RandomCrop(224)])\n",
        "\n",
        "same as: `torchvision.transforms.Compose(ReScale(256),\n",
        "                               RandomCrop(224)])`\n",
        "\n",
        "or, `torchvision.transforms.ReScale(256)`and,\n",
        "    `torchvision.transforms.RandomCrop(224)`\n"
      ],
      "metadata": {
        "id": "pj-7gLbQ8_vg"
      }
    },
    {
      "cell_type": "code",
      "source": [
        "\"\"\"import necessary modules\"\"\"\n",
        "import torch\n",
        "import torchvision\n",
        "from torch.utils.data import Dataset\n",
        "import numpy as np"
      ],
      "metadata": {
        "id": "BxXzoA5l-Kgp"
      },
      "execution_count": 1,
      "outputs": []
    },
    {
      "cell_type": "code",
      "source": [
        "\"\"\"\"define a class to initialize or download a dataset\"\"\"\n",
        "class WineDataset(Dataset):\n",
        "\n",
        "    def __init__(self, transform=None):\n",
        "        xy = np.loadtxt('wine.csv', delimiter=',', dtype=np.float32, skiprows=1)\n",
        "        self.n_samples = xy.shape[0]\n",
        "\n",
        "        # note that we do not convert to tensor here\n",
        "        self.x_data = xy[:, 1:]\n",
        "        self.y_data = xy[:, [0]]\n",
        "\n",
        "        self.transform = transform\n",
        "\n",
        "    def __getitem__(self, index):\n",
        "        sample = self.x_data[index], self.y_data[index]\n",
        "\n",
        "        if self.transform:\n",
        "            sample = self.transform(sample)\n",
        "\n",
        "        return sample\n",
        "\n",
        "    def __len__(self):\n",
        "        return self.n_samples"
      ],
      "metadata": {
        "id": "cImMFuMZ-Tso"
      },
      "execution_count": 2,
      "outputs": []
    },
    {
      "cell_type": "code",
      "source": [
        "\"\"\"\n",
        "Custom Transforms\n",
        "implement __call__(self, sample)\n",
        "\"\"\"\n",
        "class ToTensor:\n",
        "    # Convert ndarrays to Tensors\n",
        "    def __call__(self, sample):\n",
        "        inputs, targets = sample\n",
        "        return torch.from_numpy(inputs), torch.from_numpy(targets)\n",
        "\n",
        "class MulTransform:\n",
        "    # multiply inputs with a given factor\n",
        "    def __init__(self, factor):\n",
        "        self.factor = factor\n",
        "\n",
        "    def __call__(self, sample):\n",
        "        inputs, targets = sample\n",
        "        inputs *= self.factor\n",
        "        return inputs, targets"
      ],
      "metadata": {
        "id": "KTp5LSx1-n9J"
      },
      "execution_count": 3,
      "outputs": []
    },
    {
      "cell_type": "code",
      "source": [
        "print('Without Transform:')\n",
        "dataset = WineDataset(transform=None)\n",
        "first_data = dataset[0]\n",
        "features, labels = first_data\n",
        "print(\"Features type: {}\\nLabels type: {}\".format(type(features), type(labels)))\n",
        "print(\"\\nFeatures:\\n{}\\nLabels:\\n{}\".format(features, labels))"
      ],
      "metadata": {
        "colab": {
          "base_uri": "https://localhost:8080/"
        },
        "id": "qYByA9YG-n2x",
        "outputId": "318e041f-596a-455c-9425-dc0c9305c95d"
      },
      "execution_count": 14,
      "outputs": [
        {
          "output_type": "stream",
          "name": "stdout",
          "text": [
            "Without Transform:\n",
            "Features type: <class 'numpy.ndarray'>\n",
            "Labels type: <class 'numpy.ndarray'>\n",
            "\n",
            "Features:\n",
            "[1.423e+01 1.710e+00 2.430e+00 1.560e+01 1.270e+02 2.800e+00 3.060e+00\n",
            " 2.800e-01 2.290e+00 5.640e+00 1.040e+00 3.920e+00 1.065e+03]\n",
            "Labels:\n",
            "[1.]\n"
          ]
        }
      ]
    },
    {
      "cell_type": "code",
      "source": [
        "print('With Tensor Transform:')\n",
        "dataset = WineDataset(transform=ToTensor())\n",
        "first_data = dataset[0]\n",
        "features, labels = first_data\n",
        "print(\"Features type: {}\\nLabels type: {}\".format(type(features), type(labels)))\n",
        "print(\"\\nFeatures:\\n{}\\nLabels:\\n{}\".format(features, labels))"
      ],
      "metadata": {
        "colab": {
          "base_uri": "https://localhost:8080/"
        },
        "id": "veanC6FP-npF",
        "outputId": "bf9951d7-e2ff-4577-d7cd-94beb4b5d228"
      },
      "execution_count": 16,
      "outputs": [
        {
          "output_type": "stream",
          "name": "stdout",
          "text": [
            "With Tensor Transform:\n",
            "Features type: <class 'torch.Tensor'>\n",
            "Labels type: <class 'torch.Tensor'>\n",
            "\n",
            "Features:\n",
            "tensor([1.4230e+01, 1.7100e+00, 2.4300e+00, 1.5600e+01, 1.2700e+02, 2.8000e+00,\n",
            "        3.0600e+00, 2.8000e-01, 2.2900e+00, 5.6400e+00, 1.0400e+00, 3.9200e+00,\n",
            "        1.0650e+03])\n",
            "Labels:\n",
            "tensor([1.])\n"
          ]
        }
      ]
    },
    {
      "cell_type": "code",
      "source": [
        "print('With Tensor and Multiplication Transform:')\n",
        "composed = torchvision.transforms.Compose([ToTensor(), MulTransform(4)])\n",
        "dataset = WineDataset(transform=composed) # compile a list of transforms\n",
        "first_data = dataset[0]\n",
        "features, labels = first_data\n",
        "print(\"Features type: {}\\nLabels type: {}\".format(type(features), type(labels)))\n",
        "print(\"\\nFeatures:\\n{}\\nLabels:\\n{}\".format(features, labels))"
      ],
      "metadata": {
        "colab": {
          "base_uri": "https://localhost:8080/"
        },
        "id": "3So3dKP--2pN",
        "outputId": "520fb971-1784-4e61-d8e5-85d9c4c2908b"
      },
      "execution_count": 17,
      "outputs": [
        {
          "output_type": "stream",
          "name": "stdout",
          "text": [
            "With Tensor and Multiplication Transform:\n",
            "Features type: <class 'torch.Tensor'>\n",
            "Labels type: <class 'torch.Tensor'>\n",
            "\n",
            "Features:\n",
            "tensor([5.6920e+01, 6.8400e+00, 9.7200e+00, 6.2400e+01, 5.0800e+02, 1.1200e+01,\n",
            "        1.2240e+01, 1.1200e+00, 9.1600e+00, 2.2560e+01, 4.1600e+00, 1.5680e+01,\n",
            "        4.2600e+03])\n",
            "Labels:\n",
            "tensor([1.])\n"
          ]
        }
      ]
    },
    {
      "cell_type": "code",
      "source": [],
      "metadata": {
        "id": "fugvs6VY_JHE"
      },
      "execution_count": null,
      "outputs": []
    }
  ]
}