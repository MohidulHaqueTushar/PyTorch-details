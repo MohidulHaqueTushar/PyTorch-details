{
 "cells": [
  {
   "cell_type": "markdown",
   "id": "10fdf110-2970-44cf-9988-e1b7a6cf0361",
   "metadata": {
    "editable": true,
    "slideshow": {
     "slide_type": ""
    },
    "tags": []
   },
   "source": [
    "## Materials and Concepts:\n",
    "    - MNIST data\n",
    "    - DataLoader, Transformers\n",
    "    - Multilayer Neural Network, Activation Function\n",
    "    - Loss and Optimizer\n",
    "    - Training Loop (Batch Training)\n",
    "    - Model Evaluation\n",
    "    - GPU Support"
   ]
  },
  {
   "cell_type": "code",
   "execution_count": 11,
   "id": "429a404e-b25d-445a-8ebd-e728e5197fa0",
   "metadata": {},
   "outputs": [],
   "source": [
    "\"\"\"import modules\"\"\"\n",
    "import torch\n",
    "import torch.nn as nn\n",
    "import torchvision\n",
    "import torchvision.transforms as transforms\n",
    "import matplotlib.pyplot as plt"
   ]
  },
  {
   "cell_type": "code",
   "execution_count": 12,
   "id": "c005f8fc-84a7-4b62-baaa-3229a494cddb",
   "metadata": {},
   "outputs": [],
   "source": [
    "\"\"\"Device Configuration\"\"\"\n",
    "device = torch.device(\"cuda\" if torch.cuda.is_available() else \"cpu\")"
   ]
  },
  {
   "cell_type": "code",
   "execution_count": 13,
   "id": "f5566705-fba5-4cfc-9bbc-5e690a9644eb",
   "metadata": {},
   "outputs": [],
   "source": [
    "\"\"\"HyperParameters\"\"\"\n",
    "input_size = 784 # 28*28 = 784 : images size\n",
    "hidden_size = 500\n",
    "num_classes = 10\n",
    "num_epochs = 2\n",
    "batch_size = 100\n",
    "learning_rate = 0.001"
   ]
  },
  {
   "cell_type": "code",
   "execution_count": 14,
   "id": "8cef2be8-5fb5-4643-8da8-7fdb02a5745d",
   "metadata": {},
   "outputs": [],
   "source": [
    "\"\"\"MNIST Dataset\"\"\"\n",
    "train_dataset = torchvision.datasets.MNIST(root='./data', \n",
    "                                           train=True, \n",
    "                                           transform=transforms.ToTensor(),  \n",
    "                                           download=True)"
   ]
  },
  {
   "cell_type": "code",
   "execution_count": 15,
   "id": "d59417cc-df6e-4bda-bcf4-a9eb514bdf76",
   "metadata": {},
   "outputs": [],
   "source": [
    "test_dataset = torchvision.datasets.MNIST(root='./data', \n",
    "                                          train=False, \n",
    "                                          transform=transforms.ToTensor())"
   ]
  },
  {
   "cell_type": "code",
   "execution_count": 16,
   "id": "e638d381-8588-4ea1-9356-c534d792a494",
   "metadata": {},
   "outputs": [],
   "source": [
    "\"\"\"DataLoader\"\"\"\n",
    "train_loader = torch.utils.data.DataLoader(dataset=train_dataset, \n",
    "                                           batch_size=batch_size, \n",
    "                                           shuffle=True)\n",
    "\n",
    "test_loader = torch.utils.data.DataLoader(dataset=test_dataset, \n",
    "                                          batch_size=batch_size, \n",
    "                                          shuffle=False)"
   ]
  },
  {
   "cell_type": "code",
   "execution_count": 21,
   "id": "7ad9cd4c-103f-481b-a145-6f98c5793a57",
   "metadata": {},
   "outputs": [
    {
     "name": "stdout",
     "output_type": "stream",
     "text": [
      "One Training Batch Information:\n",
      "Samples Shape: torch.Size([100, 1, 28, 28])\n",
      "Labels Shape: torch.Size([100])\n"
     ]
    },
    {
     "data": {
      "image/png": "[encoded data removed]",
      "text/plain": [
       "<Figure size 640x480 with 6 Axes>"
      ]
     },
     "metadata": {},
     "output_type": "display_data"
    }
   ],
   "source": [
    "\"\"\"looking at one batch of the data: train sample\"\"\"\n",
    "examples = iter(train_loader)\n",
    "samples, labels = next(examples)\n",
    "print(\"One Training Batch Information:\\nSamples Shape: {}\\nLabels Shape: {}\".format(samples.shape,labels.shape))\n",
    "for i in range(6):\n",
    "    plt.subplot(2,3,i+1)\n",
    "    plt.imshow(samples[i][0], cmap='gray')\n",
    "plt.show()"
   ]
  },
  {
   "cell_type": "code",
   "execution_count": 22,
   "id": "86fc1b8f-a207-4ac9-bbba-ff74d4a3dfc7",
   "metadata": {},
   "outputs": [
    {
     "name": "stdout",
     "output_type": "stream",
     "text": [
      "One Test Batch Information:\n",
      "Samples Shape: torch.Size([100, 1, 28, 28])\n",
      "Labels Shape: torch.Size([100])\n"
     ]
    },
    {
     "data": {
      "image/png": "[encoded data removed]",
      "text/plain": [
       "<Figure size 640x480 with 6 Axes>"
      ]
     },
     "metadata": {},
     "output_type": "display_data"
    }
   ],
   "source": [
    "\"\"\"looking at one batch of the data: test sample\"\"\"\n",
    "examples = iter(test_loader)\n",
    "example_data, example_targets = next(examples)\n",
    "print(\"One Test Batch Information:\\nSamples Shape: {}\\nLabels Shape: {}\".format(example_data.shape,example_targets.shape))\n",
    "for i in range(6):\n",
    "    plt.subplot(2,3,i+1)\n",
    "    plt.imshow(example_data[i][0], cmap='gray')\n",
    "plt.show()"
   ]
  },
  {
   "cell_type": "markdown",
   "id": "c294a895-77b2-4c0b-98a7-8bce195b5c4e",
   "metadata": {},
   "source": [
    "## Fully Connected Neural Network with One Hidden Layer"
   ]
  },
  {
   "cell_type": "code",
   "execution_count": 23,
   "id": "d3ef167f-a4da-4206-8f04-eaa0b0f8a723",
   "metadata": {},
   "outputs": [],
   "source": [
    "class NeuralNet(nn.Module):\n",
    "    def __init__(self, input_size, hidden_size, num_classes):\n",
    "        \"\"\"\n",
    "        Parameters\n",
    "        ----------\n",
    "        input_size: int\n",
    "            number of input, input layers\n",
    "\n",
    "        hidden_size: int\n",
    "            number of hidden layers\n",
    "\n",
    "        Outputs\n",
    "        -------\n",
    "        num_classes: number of outputs, number of output layers\n",
    "        \"\"\"\n",
    "        super(NeuralNet, self).__init__()\n",
    "        self.input_size = input_size\n",
    "        self.l1 = nn.Linear(input_size, hidden_size) # first linear layer \n",
    "        self.relu = nn.ReLU() # activation function\n",
    "        self.l2 = nn.Linear(hidden_size, num_classes) # output linear layer \n",
    "    \n",
    "    def forward(self, x):\n",
    "        \"\"\"\n",
    "        Parameters\n",
    "        ----------\n",
    "        x: inputs\n",
    "        \"\"\"\n",
    "        out = self.l1(x)\n",
    "        out = self.relu(out)\n",
    "        out = self.l2(out)\n",
    "        # no activation and no softmax at the end\n",
    "        return out"
   ]
  },
  {
   "cell_type": "code",
   "execution_count": 24,
   "id": "6c4f7c9e-da6b-4c9e-93e5-bd9c9672078a",
   "metadata": {},
   "outputs": [],
   "source": [
    "model = NeuralNet(input_size, hidden_size, num_classes).to(device)"
   ]
  },
  {
   "cell_type": "code",
   "execution_count": 25,
   "id": "1511a8b0-0e01-48cf-928c-87a322580b8f",
   "metadata": {},
   "outputs": [],
   "source": [
    "\"\"\"Loss and optimizer\"\"\"\n",
    "criterion = nn.CrossEntropyLoss() # apply the softmax automatically\n",
    "optimizer = torch.optim.Adam(model.parameters(), lr=learning_rate)"
   ]
  },
  {
   "cell_type": "code",
   "execution_count": 26,
   "id": "65346f72-5523-4c5a-8c51-6a25626dbf51",
   "metadata": {},
   "outputs": [
    {
     "name": "stdout",
     "output_type": "stream",
     "text": [
      "Epoch [1/2], Step [100/600], Loss: 0.2048\n",
      "Epoch [1/2], Step [200/600], Loss: 0.3007\n",
      "Epoch [1/2], Step [300/600], Loss: 0.2026\n",
      "Epoch [1/2], Step [400/600], Loss: 0.1950\n",
      "Epoch [1/2], Step [500/600], Loss: 0.1346\n",
      "Epoch [1/2], Step [600/600], Loss: 0.0994\n",
      "Epoch [2/2], Step [100/600], Loss: 0.1352\n",
      "Epoch [2/2], Step [200/600], Loss: 0.2571\n",
      "Epoch [2/2], Step [300/600], Loss: 0.1232\n",
      "Epoch [2/2], Step [400/600], Loss: 0.0381\n",
      "Epoch [2/2], Step [500/600], Loss: 0.0781\n",
      "Epoch [2/2], Step [600/600], Loss: 0.1730\n"
     ]
    }
   ],
   "source": [
    "\"\"\"Train the Model: training loops\"\"\"\n",
    "n_total_steps = len(train_loader)\n",
    "for epoch in range(num_epochs):\n",
    "    for i, (images, labels) in enumerate(train_loader):  \n",
    "        # origin shape: [100, 1, 28, 28]\n",
    "        # resized: [100, 784]\n",
    "        images = images.reshape(-1, 28*28).to(device)\n",
    "        labels = labels.to(device)\n",
    "        \n",
    "        # Forward pass\n",
    "        outputs = model(images)\n",
    "        loss = criterion(outputs, labels)\n",
    "        \n",
    "        # Backward and optimize\n",
    "        optimizer.zero_grad()\n",
    "        loss.backward()\n",
    "        optimizer.step()\n",
    "        \n",
    "        if (i+1) % 100 == 0:\n",
    "            print (f'Epoch [{epoch+1}/{num_epochs}], Step [{i+1}/{n_total_steps}], Loss: {loss.item():.4f}')\n"
   ]
  },
  {
   "cell_type": "code",
   "execution_count": 27,
   "id": "cb972480-339c-4b80-ad2f-3a6dfc6986e3",
   "metadata": {},
   "outputs": [
    {
     "name": "stdout",
     "output_type": "stream",
     "text": [
      "Accuracy of the network on the 10000 test images: 97.16 %\n"
     ]
    }
   ],
   "source": [
    "\"\"\"\n",
    "Test the model\n",
    "In test phase, we don't need to compute gradients (for memory efficiency)\n",
    "\"\"\"\n",
    "with torch.no_grad():\n",
    "    n_correct = 0\n",
    "    n_samples = 0\n",
    "    for images, labels in test_loader:\n",
    "        images = images.reshape(-1, 28*28).to(device)\n",
    "        labels = labels.to(device)\n",
    "        outputs = model(images)\n",
    "        # max returns (value ,index)\n",
    "        _, predicted = torch.max(outputs.data, 1)\n",
    "        n_samples += labels.size(0)\n",
    "        n_correct += (predicted == labels).sum().item()\n",
    "\n",
    "    acc = 100.0 * n_correct / n_samples\n",
    "    print(f'Accuracy of the network on the 10000 test images: {acc} %')"
   ]
  },
  {
   "cell_type": "code",
   "execution_count": null,
   "id": "281af19a-5aad-4eff-818c-f8b6232c42bf",
   "metadata": {},
   "outputs": [],
   "source": []
  }
 ],
 "metadata": {
  "kernelspec": {
   "display_name": "Python 3 (ipykernel)",
   "language": "python",
   "name": "python3"
  },
  "language_info": {
   "codemirror_mode": {
    "name": "ipython",
    "version": 3
   },
   "file_extension": ".py",
   "mimetype": "text/x-python",
   "name": "python",
   "nbconvert_exporter": "python",
   "pygments_lexer": "ipython3",
   "version": "3.11.5"
  }
 },
 "nbformat": 4,
 "nbformat_minor": 5
}
