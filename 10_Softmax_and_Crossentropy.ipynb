{
  "nbformat": 4,
  "nbformat_minor": 0,
  "metadata": {
    "colab": {
      "provenance": []
    },
    "kernelspec": {
      "name": "python3",
      "display_name": "Python 3"
    },
    "language_info": {
      "name": "python"
    }
  },
  "cells": [
    {
      "cell_type": "code",
      "source": [
        "\"\"\"import modules\"\"\"\n",
        "import torch\n",
        "import torch.nn as nn\n",
        "import numpy as np"
      ],
      "metadata": {
        "id": "SFJbVEn_M58U"
      },
      "execution_count": 1,
      "outputs": []
    },
    {
      "cell_type": "markdown",
      "source": [
        "**Fact:**\n",
        "  - Softmax applies the exponential function to each element, and normalizes by dividing by the sum of all these exponentials\n",
        "  - Squashes the output to be between 0 and 1 in probability\n",
        "  - Sum of all probabilities is 1"
      ],
      "metadata": {
        "id": "kpQFhVQINsfZ"
      }
    },
    {
      "cell_type": "code",
      "source": [
        "\"\"\"define softmax function\"\"\"\n",
        "def softmax(x):\n",
        "    return np.exp(x) / np.sum(np.exp(x), axis=0)"
      ],
      "metadata": {
        "id": "L_6h3F6yRFeo"
      },
      "execution_count": 4,
      "outputs": []
    },
    {
      "cell_type": "code",
      "source": [
        "\"\"\"using softmax function\"\"\"\n",
        "x = np.array([2.0, 1.0, 0.1])\n",
        "outputs = softmax(x)\n",
        "print('Softmax numpy:', outputs)\n",
        "\n",
        "x = torch.tensor([2.0, 1.0, 0.1])\n",
        "outputs = torch.softmax(x, dim=0) # along values along first axis\n",
        "print('Softmax torch:', outputs)"
      ],
      "metadata": {
        "colab": {
          "base_uri": "https://localhost:8080/"
        },
        "id": "HSHFnt4MRmvC",
        "outputId": "4f88e861-3e25-4dc4-e057-66a362a5e467"
      },
      "execution_count": 11,
      "outputs": [
        {
          "output_type": "stream",
          "name": "stdout",
          "text": [
            "Softmax numpy: [0.65900114 0.24243297 0.09856589]\n",
            "Softmax torch: tensor([0.6590, 0.2424, 0.0986])\n"
          ]
        }
      ]
    },
    {
      "cell_type": "code",
      "source": [
        "\"\"\"\n",
        "- Define cross entropy function\n",
        "- Cross-entropy loss, or log loss, measures the performance of a classification model\n",
        "- Output is a probability value between 0 and 1\n",
        "- Loss increases as the predicted probability diverges from the actual label\n",
        "\"\"\"\n",
        "def cross_entropy(actual, predicted):\n",
        "    EPS = 1e-15\n",
        "    predicted = np.clip(predicted, EPS, 1 - EPS)\n",
        "    loss = -np.sum(actual * np.log(predicted))\n",
        "    return loss # / float(predicted.shape[0])\n",
        "\n",
        "\"\"\"\n",
        "- y must be one hot encoded:\n",
        " if class 0: [1 0 0]\n",
        " if class 1: [0 1 0]\n",
        " if class 2: [0 0 1]\n",
        "\"\"\"\n",
        "Y = np.array([1, 0, 0])\n",
        "\n",
        "\"\"\"probabilities for predicted outcome (y)\"\"\"\n",
        "Y_pred_good = np.array([0.7, 0.2, 0.1])\n",
        "Y_pred_bad = np.array([0.1, 0.3, 0.6])\n",
        "\n",
        "\"\"\"compute the loss: loss is less for better prediction\"\"\"\n",
        "l1 = cross_entropy(Y, Y_pred_good)\n",
        "l2 = cross_entropy(Y, Y_pred_bad)\n",
        "\n",
        "print(f'Loss1 numpy: {l1:.4f}')\n",
        "print(f'Loss2 numpy: {l2:.4f}')"
      ],
      "metadata": {
        "colab": {
          "base_uri": "https://localhost:8080/"
        },
        "id": "0B4MkTJcR7TC",
        "outputId": "c395eba4-b511-45f3-87fa-0b7bb01047a7"
      },
      "execution_count": 13,
      "outputs": [
        {
          "output_type": "stream",
          "name": "stdout",
          "text": [
            "Loss1 numpy: 0.3567\n",
            "Loss2 numpy: 2.3026\n"
          ]
        }
      ]
    },
    {
      "cell_type": "code",
      "source": [
        "\"\"\"\n",
        "- CrossEntropyLoss in PyTorch (applies Softmax)\n",
        "- nn.LogSoftmax + nn.NLLLoss\n",
        "- NLLLoss = negative log likelihood loss\n",
        "\"\"\"\n",
        "loss = nn.CrossEntropyLoss() # parameters: predicted class, actual class\n",
        "\n",
        "\"\"\"\n",
        "- target is of size nSamples: 1 in this case\n",
        "- each element has class label: 0, 1, or 2, menas three in this case\n",
        "- Y (target) contains class labels, not one-hot encoded\n",
        "\"\"\"\n",
        "Y = torch.tensor([0]) # target sample\n",
        "\n",
        "\"\"\"\n",
        "- input is of size nSamples x nClasses = 1 x 3\n",
        "- y_pred (input) must be raw, unnormalizes scores (logits) for each class, not softmax\n",
        "\"\"\"\n",
        "\"\"\"predicted outcome\"\"\"\n",
        "Y_pred_good = torch.tensor([[2.0, 1.0, 0.1]]) # predicted 0\n",
        "Y_pred_bad = torch.tensor([[0.5, 2.0, 0.3]])  # predicted 1\n",
        "\n",
        "\"\"\"compute the loss: loss is less for better prediction\"\"\"\n",
        "l1 = loss(Y_pred_good, Y)\n",
        "l2 = loss(Y_pred_bad, Y)\n",
        "\n",
        "print(f'PyTorch Loss1: {l1.item():.4f}')\n",
        "print(f'PyTorch Loss2: {l2.item():.4f}')\n"
      ],
      "metadata": {
        "colab": {
          "base_uri": "https://localhost:8080/"
        },
        "id": "ztYT5uVsSsR2",
        "outputId": "a7f147f7-794e-462c-fe41-06f4ba2f8ad7"
      },
      "execution_count": 14,
      "outputs": [
        {
          "output_type": "stream",
          "name": "stdout",
          "text": [
            "PyTorch Loss1: 0.4170\n",
            "PyTorch Loss2: 1.8406\n"
          ]
        }
      ]
    },
    {
      "cell_type": "code",
      "source": [
        "# get predictions\n",
        "_, predictions1 = torch.max(Y_pred_good, 1) # 1 is dimensions here\n",
        "_, predictions2 = torch.max(Y_pred_bad, 1)  # 1 is dimensions here\n",
        "print(f'Actual class: {Y.item()}, \\nY_pred1: {predictions1.item()}, \\nY_pred2: {predictions2.item()}')"
      ],
      "metadata": {
        "colab": {
          "base_uri": "https://localhost:8080/"
        },
        "id": "ahuzfnZOSzax",
        "outputId": "07cbf1d5-057b-4f2c-9410-8ea93e0fc944"
      },
      "execution_count": 15,
      "outputs": [
        {
          "output_type": "stream",
          "name": "stdout",
          "text": [
            "Actual class: 0, \n",
            "Y_pred1: 0, \n",
            "Y_pred2: 1\n"
          ]
        }
      ]
    },
    {
      "cell_type": "code",
      "source": [
        "\"\"\"\n",
        "Allows batch loss for multiple samples:\n",
        "- target is of size nBatch = 3\n",
        "- each element has class label: 0, 1, or 2\n",
        "\"\"\"\n",
        "Y = torch.tensor([2, 0, 1]) # target outcomes\n",
        "\n",
        "\"\"\"\n",
        "- input is of size nBatch x nClasses = 3 x 3\n",
        "- Y_pred are logits (not softmax)\n",
        "\"\"\"\n",
        "\n",
        "\"\"\"predicted outcome\"\"\"\n",
        "Y_pred_good = torch.tensor(\n",
        "    [[0.1, 0.2, 3.9], # predict class 2\n",
        "    [1.2, 0.1, 0.3], # predict class 0\n",
        "    [0.3, 2.2, 0.2]]) # predict class 1\n",
        "\n",
        "Y_pred_bad = torch.tensor(\n",
        "    [[0.9, 0.2, 0.1], # predicted class 0\n",
        "    [0.1, 0.3, 1.5],  # predicted class 2\n",
        "    [1.2, 0.2, 0.5]]) # predicted class 0\n",
        "\n",
        "\"\"\"compute the loss: loss is less for better prediction\"\"\"\n",
        "l1 = loss(Y_pred_good, Y)\n",
        "l2 = loss(Y_pred_bad, Y)\n",
        "\n",
        "print(f'Batch Loss1:  {l1.item():.4f}')\n",
        "print(f'Batch Loss2: {l2.item():.4f}')\n",
        "\n",
        "\"\"\"get predictions\"\"\"\n",
        "_, predictions1 = torch.max(Y_pred_good, 1)\n",
        "_, predictions2 = torch.max(Y_pred_bad, 1)\n",
        "print(f'\\nActual class: {Y}, \\nY_pred1: {predictions1}, \\nY_pred2: {predictions2}')"
      ],
      "metadata": {
        "colab": {
          "base_uri": "https://localhost:8080/"
        },
        "id": "33nKYBTLS6nx",
        "outputId": "26b4f14e-71e6-4e7b-f1e7-460138e154a8"
      },
      "execution_count": 16,
      "outputs": [
        {
          "output_type": "stream",
          "name": "stdout",
          "text": [
            "Batch Loss1:  0.2834\n",
            "Batch Loss2: 1.6418\n",
            "\n",
            "Actual class: tensor([2, 0, 1]), \n",
            "Y_pred1: tensor([2, 0, 1]), \n",
            "Y_pred2: tensor([0, 2, 0])\n"
          ]
        }
      ]
    },
    {
      "cell_type": "code",
      "source": [
        "\"\"\"Binary classification\"\"\"\n",
        "class NeuralNet1(nn.Module):\n",
        "    def __init__(self, input_size, hidden_size):\n",
        "        super(NeuralNet1, self).__init__()\n",
        "        self.linear1 = nn.Linear(input_size, hidden_size)\n",
        "        self.relu = nn.ReLU() # activation function\n",
        "        self.linear2 = nn.Linear(hidden_size, 1) # 1 is the output size, alwys fixed in this case\n",
        "\n",
        "    def forward(self, x):\n",
        "        out = self.linear1(x)\n",
        "        out = self.relu(out)\n",
        "        out = self.linear2(out)\n",
        "        # sigmoid at the end\n",
        "        y_pred = torch.sigmoid(out)\n",
        "        return y_pred\n",
        "\n",
        "model = NeuralNet1(input_size=28*28, hidden_size=5)\n",
        "criterion = nn.BCELoss() # binary cross entropy"
      ],
      "metadata": {
        "id": "co49Ea5STIap"
      },
      "execution_count": 17,
      "outputs": []
    },
    {
      "cell_type": "code",
      "source": [
        "\"\"\"Multiclass problem\"\"\"\n",
        "class NeuralNet2(nn.Module):\n",
        "    def __init__(self, input_size, hidden_size, num_classes):\n",
        "        super(NeuralNet2, self).__init__()\n",
        "        self.linear1 = nn.Linear(input_size, hidden_size)\n",
        "        self.relu = nn.ReLU()\n",
        "        self.linear2 = nn.Linear(hidden_size, num_classes)\n",
        "\n",
        "    def forward(self, x):\n",
        "        out = self.linear1(x)\n",
        "        out = self.relu(out)\n",
        "        out = self.linear2(out)\n",
        "        # no softmax at the end\n",
        "        return out\n",
        "\n",
        "model = NeuralNet2(input_size=28*28, hidden_size=5, num_classes=3)\n",
        "criterion = nn.CrossEntropyLoss()  # applies Softmax automatically, don't need to implement"
      ],
      "metadata": {
        "id": "Nk-QkpEPTNZB"
      },
      "execution_count": 18,
      "outputs": []
    },
    {
      "cell_type": "code",
      "source": [],
      "metadata": {
        "id": "RJ0aLYK4TTSh"
      },
      "execution_count": null,
      "outputs": []
    }
  ]
}